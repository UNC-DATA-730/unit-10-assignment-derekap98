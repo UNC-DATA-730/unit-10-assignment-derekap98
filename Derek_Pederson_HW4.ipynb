{
 "cells": [
  {
   "cell_type": "markdown",
   "id": "ae49eeb2-a960-40b8-bb0b-946518dd251a",
   "metadata": {},
   "source": [
    "1. Find the names and addresses of suppliers who supply parts which cost less than $100."
   ]
  },
  {
   "cell_type": "code",
   "execution_count": null,
   "id": "4299e8a1-c877-499f-8a43-9c7715ae6a8b",
   "metadata": {},
   "outputs": [],
   "source": [
    "SELECT DISTINCT s.sname, s.address\n",
    "FROM Suppliers s\n",
    "JOIN Catalog c ON s.sid = c.sid\n",
    "WHERE c.cost < 100;"
   ]
  },
  {
   "cell_type": "markdown",
   "id": "274a3317-ec4e-4530-bcb4-4bd5202e521e",
   "metadata": {},
   "source": [
    "2. Find the names of suppliers who supply parts which are either green or blue."
   ]
  },
  {
   "cell_type": "code",
   "execution_count": null,
   "id": "c39ebb1e-f9cd-499d-ba7f-dfc51102faaa",
   "metadata": {},
   "outputs": [],
   "source": [
    "SELECT DISTINCT s.sname\n",
    "FROM Suppliers s\n",
    "JOIN Catalog c ON s.sid = c.sid\n",
    "JOIN Parts p ON c.pid = p.pid\n",
    "WHERE p.color IN ('green', 'blue');"
   ]
  },
  {
   "cell_type": "markdown",
   "id": "288ff74e-5acb-4e60-8fad-fa7f43245a77",
   "metadata": {},
   "source": [
    "3. Find the names of suppliers who supply both a red part and a green part (at least one of each color)."
   ]
  },
  {
   "cell_type": "code",
   "execution_count": null,
   "id": "b9ae444c-aa51-4f14-b6cd-07179f104f45",
   "metadata": {},
   "outputs": [],
   "source": [
    "SELECT s.sname\n",
    "FROM Suppliers s\n",
    "WHERE s.sid IN (\n",
    "    SELECT c1.sid\n",
    "    FROM Catalog c1\n",
    "    JOIN Parts p1 ON c1.pid = p1.pid\n",
    "    WHERE p1.color = 'red'\n",
    ")\n",
    "AND s.sid IN (\n",
    "    SELECT c2.sid\n",
    "    FROM Catalog c2\n",
    "    JOIN Parts p2 ON c2.pid = p2.pid\n",
    "    WHERE p2.color = 'green'\n",
    ");"
   ]
  },
  {
   "cell_type": "markdown",
   "id": "a881372b-0365-4206-9d74-dd67ae4352d0",
   "metadata": {},
   "source": [
    "4. Find the names of suppliers who supply every red and blue part."
   ]
  },
  {
   "cell_type": "code",
   "execution_count": null,
   "id": "9c2a7b42-2205-413a-8c77-8c83f19f5013",
   "metadata": {},
   "outputs": [],
   "source": [
    "SELECT s.sname\n",
    "FROM Suppliers s\n",
    "WHERE NOT EXISTS (\n",
    "    SELECT p1.pid\n",
    "    FROM Parts p1\n",
    "    WHERE p1.color IN ('red', 'blue')\n",
    "    AND NOT EXISTS (\n",
    "        SELECT c1.sid\n",
    "        FROM Catalog c1\n",
    "        WHERE c1.sid = s.sid\n",
    "        AND c1.pid = p1.pid\n",
    "    )\n",
    ");"
   ]
  },
  {
   "cell_type": "markdown",
   "id": "37913302-1984-4ae1-b6c7-fdbb62c52ac4",
   "metadata": {},
   "source": [
    "5. Find the sids of suppliers who supply every red part or supply every blue part (use nested query)."
   ]
  },
  {
   "cell_type": "code",
   "execution_count": null,
   "id": "60e05bf1-5e4a-4e40-a393-58701e467ae4",
   "metadata": {},
   "outputs": [],
   "source": [
    "SELECT s.sid\n",
    "FROM Suppliers s\n",
    "WHERE s.sid IN (\n",
    "    SELECT c1.sid\n",
    "    FROM Catalog c1\n",
    "    WHERE NOT EXISTS (\n",
    "        SELECT p1.pid\n",
    "        FROM Parts p1\n",
    "        WHERE p1.color = 'red'\n",
    "        AND NOT EXISTS (\n",
    "            SELECT c2.sid\n",
    "            FROM Catalog c2\n",
    "            WHERE c2.sid = c1.sid\n",
    "            AND c2.pid = p1.pid\n",
    "        )\n",
    "    )\n",
    ")"
   ]
  },
  {
   "cell_type": "markdown",
   "id": "e127485f-dd4c-4b77-a6b9-b5af1cc68fb0",
   "metadata": {},
   "source": [
    "6. Find pairs of suppliers who supply the same part."
   ]
  },
  {
   "cell_type": "code",
   "execution_count": null,
   "id": "99a91270-b08e-400a-a6cd-caed11e3a76e",
   "metadata": {},
   "outputs": [],
   "source": [
    "SELECT DISTINCT c1.sid AS supplier1, c2.sid AS supplier2\n",
    "FROM Catalog c1\n",
    "JOIN Catalog c2 ON c1.pid = c2.pid\n",
    "WHERE c1.sid < c2.sid;"
   ]
  },
  {
   "cell_type": "markdown",
   "id": "c31daf46-0385-4335-80e3-81c54f1e1c2b",
   "metadata": {},
   "source": [
    "7. Find the pids of parts supplied by at least two different suppliers."
   ]
  },
  {
   "cell_type": "code",
   "execution_count": null,
   "id": "f40180bb-c641-4188-bf5e-1c6a6d9972f7",
   "metadata": {},
   "outputs": [],
   "source": [
    "SELECT pid\n",
    "FROM Catalog\n",
    "GROUP BY pid\n",
    "HAVING COUNT(DISTINCT sid) >= 2;"
   ]
  },
  {
   "cell_type": "markdown",
   "id": "090d49c1-37ef-492e-ab17-56967d66b82d",
   "metadata": {},
   "source": [
    "8. Find the supplier who supplies the most expensive part in the whole catalog."
   ]
  },
  {
   "cell_type": "code",
   "execution_count": null,
   "id": "1aa4f3d2-ad7e-491d-a444-ef49679e7321",
   "metadata": {},
   "outputs": [],
   "source": [
    "SELECT s.sname\n",
    "FROM Suppliers s\n",
    "JOIN Catalog c ON s.sid = c.sid\n",
    "WHERE c.cost = (SELECT MAX(cost) FROM Catalog);"
   ]
  },
  {
   "cell_type": "markdown",
   "id": "73c094f0-a73d-4f3e-b7e2-594b3cf92a05",
   "metadata": {},
   "source": [
    "9. Find all suppliers who don’t supply a red part."
   ]
  },
  {
   "cell_type": "code",
   "execution_count": null,
   "id": "0926e91e-4be5-4145-a7a9-ced6c4b53b4e",
   "metadata": {},
   "outputs": [],
   "source": [
    "SELECT s.sname\n",
    "FROM Suppliers s\n",
    "WHERE NOT EXISTS (\n",
    "    SELECT c.sid\n",
    "    FROM Catalog c\n",
    "    JOIN Parts p ON c.pid = p.pid\n",
    "    WHERE p.color = 'red'\n",
    "    AND c.sid = s.sid\n",
    ");"
   ]
  },
  {
   "cell_type": "markdown",
   "id": "fc274268-8d4d-418b-9854-6225ba0a23d2",
   "metadata": {},
   "source": [
    "10a. Find the count of all parts supplied by ‘Acme Suppliers’ grouped by their color."
   ]
  },
  {
   "cell_type": "code",
   "execution_count": null,
   "id": "3360cb91-e0e2-4828-9267-df93756e5fc0",
   "metadata": {},
   "outputs": [],
   "source": [
    "SELECT p.color, COUNT(*) AS part_count\n",
    "FROM Suppliers s\n",
    "JOIN Catalog c ON s.sid = c.sid\n",
    "JOIN Parts p ON c.pid = p.pid\n",
    "WHERE s.sname = 'Acme Suppliers'\n",
    "GROUP BY p.color;"
   ]
  },
  {
   "cell_type": "markdown",
   "id": "7c1c7543-6367-4ec2-83ec-cb90129c5afb",
   "metadata": {},
   "source": [
    "10b. Show only when the count is less than 100."
   ]
  },
  {
   "cell_type": "code",
   "execution_count": null,
   "id": "87e35bb8-67d2-48d8-bb8c-b28d1d323eb8",
   "metadata": {},
   "outputs": [],
   "source": [
    "SELECT p.color, COUNT(*) AS part_count\n",
    "FROM Suppliers s\n",
    "JOIN Catalog c ON s.sid = c.sid\n",
    "JOIN Parts p ON c.pid = p.pid\n",
    "WHERE s.sname = 'Acme Suppliers'\n",
    "GROUP BY p.color\n",
    "HAVING COUNT(*) < 100;"
   ]
  }
 ],
 "metadata": {
  "kernelspec": {
   "display_name": "data730-lecture:R",
   "language": "R",
   "name": "conda-env-data730-lecture-r"
  },
  "language_info": {
   "codemirror_mode": "r",
   "file_extension": ".r",
   "mimetype": "text/x-r-source",
   "name": "R",
   "pygments_lexer": "r",
   "version": "4.3.3"
  }
 },
 "nbformat": 4,
 "nbformat_minor": 5
}
